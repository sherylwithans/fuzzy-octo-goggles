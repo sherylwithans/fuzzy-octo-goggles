{
 "cells": [
  {
   "cell_type": "code",
   "execution_count": 1,
   "metadata": {},
   "outputs": [
    {
     "name": "stdout",
     "output_type": "stream",
     "text": [
      "0\n",
      "1\n",
      "2\n",
      "Pressed Looks familiar !\n"
     ]
    },
    {
     "data": {
      "text/plain": [
       "0"
      ]
     },
     "execution_count": 1,
     "metadata": {},
     "output_type": "execute_result"
    }
   ],
   "source": [
    "from PyQt5.QtGui import *\n",
    "from PyQt5.QtWidgets import *\n",
    "from PyQt5.QtCore import *\n",
    "\n",
    "import sys\n",
    "\n",
    "#our class: MainWindow; qt parent class: QMainWindow\n",
    "word_dict = {'Jing Chen':'little cutie','Beichen Liu':'Dabei','Jingyi Wu':'happy birthday','Sheryl Zhou':'ss'}\n",
    "selected_words = ['Jing Chen','Beichen Liu','Jingyi Wu','Sheryl Zhou']\n",
    "\n",
    "class MainWindow(QMainWindow):\n",
    "\n",
    "    def __init__(self, *args, **kwargs):\n",
    "        #must always call the super init function or it won't work\n",
    "        super(MainWindow, self).__init__(*args,**kwargs)\n",
    "\n",
    "        #set window title, function of QMainWindow Class\n",
    "        self.setWindowTitle(\"My Awesome Vocabulary Builder\")\n",
    "        \n",
    "        #layout for menu bar\n",
    "        menulayout = QVBoxLayout()\n",
    "        menulayout.setContentsMargins(50,100,50,200) \n",
    "        for i in range(3):\n",
    "            button = QPushButton('Setting'+str(i))\n",
    "            print(i)\n",
    "            button.pressed.connect(lambda i = i : self.menu_btn_pushed(i))\n",
    "            menulayout.addWidget(button)\n",
    "        \n",
    "        #layout for memorizing mode\n",
    "        buttonlayout = QHBoxLayout()\n",
    "        buttonlist = [\"I don't know\",\"Looks familiar\",\"I know this\"]\n",
    "        buttonlayout.setContentsMargins(25,25,25,25) \n",
    "        for b in buttonlist:\n",
    "            button = QPushButton(b)\n",
    "            button.pressed.connect(lambda b = b: self.menu_btn_pushed(b))\n",
    "            buttonlayout.addWidget(button)\n",
    "        \n",
    "        #layout for display screen (flashcard)\n",
    "        displaylayout = QVBoxLayout()\n",
    "        displaylayout.setContentsMargins(50,50,75,50) \n",
    "        card = QPushButton(selected_words[0])\n",
    "        card.setMinimumWidth(500)\n",
    "        card.setMinimumHeight(250)\n",
    "        card.clicked.connect(lambda x: self.card_clicked(card))\n",
    "        displaylayout.addWidget(card)\n",
    "        displaylayout.addLayout(buttonlayout)\n",
    "    \n",
    "        #layout for main window\n",
    "        mainlayout = QHBoxLayout()\n",
    "        mainlayout.addLayout(menulayout)\n",
    "        mainlayout.addLayout(displaylayout)\n",
    "        \n",
    "        widget = QWidget()\n",
    "        widget.setLayout(mainlayout)\n",
    "        self.setCentralWidget(widget)\n",
    "\n",
    "    def menu_btn_pushed(self,s):\n",
    "        print('Pressed '+ str(s)+' !')\n",
    "\n",
    "    def card_clicked(self,c):\n",
    "        if c.text() in word_dict.keys():\n",
    "            c.setText('Definition:\\n'+word_dict[c.text()])\n",
    "            selected_words.remove(selected_words[0])\n",
    "        elif len(selected_words)>0:\n",
    "            c.setText(selected_words[0])\n",
    "        else:\n",
    "            c.setText('You have finished all words for this session!')\n",
    "\n",
    "#sys.argv allows pass command line arguments to application\n",
    "app = QApplication(sys.argv)\n",
    "\n",
    "#create window instance (after create QApplication instantce but before enter event loop)\n",
    "window = MainWindow() \n",
    "window.show()\n",
    "\n",
    "#enter the event loop\n",
    "app.exec_()"
   ]
  },
  {
   "cell_type": "code",
   "execution_count": null,
   "metadata": {},
   "outputs": [],
   "source": []
  }
 ],
 "metadata": {
  "kernelspec": {
   "display_name": "Python 3",
   "language": "python",
   "name": "python3"
  },
  "language_info": {
   "codemirror_mode": {
    "name": "ipython",
    "version": 3
   },
   "file_extension": ".py",
   "mimetype": "text/x-python",
   "name": "python",
   "nbconvert_exporter": "python",
   "pygments_lexer": "ipython3",
   "version": "3.6.5"
  }
 },
 "nbformat": 4,
 "nbformat_minor": 2
}
