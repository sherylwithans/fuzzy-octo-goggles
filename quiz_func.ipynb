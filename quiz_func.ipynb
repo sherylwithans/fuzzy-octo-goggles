{
 "cells": [
  {
   "cell_type": "markdown",
   "metadata": {},
   "source": [
    "### Quiz function"
   ]
  },
  {
   "cell_type": "code",
   "execution_count": 4,
   "metadata": {},
   "outputs": [],
   "source": [
    "import pandas as pd\n",
    "import numpy as np\n",
    "gre_df = pd.read_csv(\"vocabulary.csv\")"
   ]
  },
  {
   "cell_type": "code",
   "execution_count": 98,
   "metadata": {},
   "outputs": [],
   "source": [
    "#Build a function that performs as a quiz and the form of the quiz is mutiple choice.\n",
    "def quiz(number,df):\n",
    "    import random\n",
    "    # Quiz the words whose proficiency is -1 or 0\n",
    "    unk_df = df[df['proficiency']== -1]\n",
    "    fam_df = df[df['proficiency'] == 0]\n",
    "    #Quiz words whose proficiency is -1 first.\n",
    "    if len(unk_df) >= number:\n",
    "        result = {}\n",
    "        for i in range(number):\n",
    "            r = []\n",
    "            chooses = list(df.sample(n=3, replace = True)['definitions'])  #choose 3 definition  randomly from the whole word list.\n",
    "            solution = df['definitions'][i]\n",
    "            # Produce choices in a random order.\n",
    "            flag = random.randint(0,3)\n",
    "            chooses.insert(flag, solution)\n",
    "            r.append(chooses)\n",
    "            r.append(flag)\n",
    "            result[df['words'][i]] = tuple(r)\n",
    "    #Quiz words whose proficientcy is 0 if the number of '-1' words is not big enough.\n",
    "    elif len(unk_df)+len(fam_df) >= number:\n",
    "        result = {}\n",
    "        for i in range(number):\n",
    "            r = []\n",
    "            chooses = list(df.sample(n=3, replace = True)['definitions'])\n",
    "            solution = df['definitions'][i]\n",
    "            flag = random.randint(0,3)\n",
    "            chooses.insert(flag, solution)\n",
    "            r.append(chooses)\n",
    "            r.append(flag)\n",
    "            result[df['words'][i]] = tuple(r)\n",
    "    else:\n",
    "        result = None                      # 'You have not learn enough words. Please learn more words!'\n",
    "    \n",
    "    return result\n",
    "\n",
    "        "
   ]
  }
 ],
 "metadata": {
  "kernelspec": {
   "display_name": "Python 3",
   "language": "python",
   "name": "python3"
  },
  "language_info": {
   "codemirror_mode": {
    "name": "ipython",
    "version": 3
   },
   "file_extension": ".py",
   "mimetype": "text/x-python",
   "name": "python",
   "nbconvert_exporter": "python",
   "pygments_lexer": "ipython3",
   "version": "3.6.6"
  }
 },
 "nbformat": 4,
 "nbformat_minor": 2
}
