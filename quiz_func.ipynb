{
 "cells": [
  {
   "cell_type": "code",
   "execution_count": 4,
   "metadata": {},
   "outputs": [],
   "source": [
    "import pandas as pd\n",
    "import numpy as np"
   ]
  },
  {
   "cell_type": "code",
   "execution_count": 87,
   "metadata": {},
   "outputs": [],
   "source": [
    "gre_df = pd.read_csv(\"vocabulary.csv\")"
   ]
  },
  {
   "cell_type": "code",
   "execution_count": 98,
   "metadata": {},
   "outputs": [],
   "source": [
    "def quiz(number,df):\n",
    "    import random\n",
    "    \n",
    "    unk_df = df[df['proficiency']== -1]\n",
    "    fam_df = df[df['proficiency'] == 0]\n",
    "    if len(unk_df) >= number:\n",
    "        result = {}\n",
    "        for i in range(number):\n",
    "            r = []\n",
    "            chooses = list(df.sample(n=3, replace = True)['definitions'])\n",
    "            solution = df['definitions'][i]\n",
    "            flag = random.randint(0,3)\n",
    "            chooses.insert(flag, solution)\n",
    "            r.append(chooses)\n",
    "            r.append(flag)\n",
    "            result[df['words'][i]] = tuple(r)\n",
    "    elif len(unk_df)+len(fam_df) >= number:\n",
    "        result = {}\n",
    "        for i in range(number):\n",
    "            r = []\n",
    "            chooses = list(df.sample(n=3, replace = True)['definitions'])\n",
    "            solution = df['definitions'][i]\n",
    "            flag = random.randint(0,3)\n",
    "            chooses.insert(flag, solution)\n",
    "            r.append(chooses)\n",
    "            r.append(flag)\n",
    "            result[df['words'][i]] = tuple(r)\n",
    "    else:\n",
    "        result = None                      # 'You have not learn enough words. Please learn more words!'\n",
    "    \n",
    "    return result\n",
    "\n",
    "        "
   ]
  },
  {
   "cell_type": "code",
   "execution_count": null,
   "metadata": {},
   "outputs": [],
   "source": []
  }
 ],
 "metadata": {
  "kernelspec": {
   "display_name": "Python 3",
   "language": "python",
   "name": "python3"
  },
  "language_info": {
   "codemirror_mode": {
    "name": "ipython",
    "version": 3
   },
   "file_extension": ".py",
   "mimetype": "text/x-python",
   "name": "python",
   "nbconvert_exporter": "python",
   "pygments_lexer": "ipython3",
   "version": "3.6.6"
  }
 },
 "nbformat": 4,
 "nbformat_minor": 2
}
