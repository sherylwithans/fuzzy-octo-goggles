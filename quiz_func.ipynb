{
 "cells": [
  {
   "cell_type": "markdown",
   "metadata": {},
   "source": [
    "### Quiz function"
   ]
  },
  {
   "cell_type": "code",
   "execution_count": 11,
   "metadata": {},
   "outputs": [],
   "source": [
    "import pandas as pd\n",
    "import numpy as np\n",
    "df = pd.read_csv(\"vocabulary.csv\")"
   ]
  },
  {
   "cell_type": "code",
   "execution_count": 33,
   "metadata": {},
   "outputs": [],
   "source": [
    "#Build a function that performs as a quiz and the form of the quiz is mutiple choice.\n",
    "def quiz(number,df):\n",
    "    import random\n",
    "    result = {}\n",
    "\n",
    "    # Quiz the words whose proficiency is -1 or 0\n",
    "    unknown_df = df[df[titles[2]]== -1]\n",
    "    familiar_df = df[df[titles[2]] == 0]\n",
    "\n",
    "    #Quiz words whose proficiency is -1 first.\n",
    "    if len(unknown_df) >= number:\n",
    "        quiz_df = unknown_df\n",
    "    #Quiz words whose proficientcy is 0 if the number of '-1' words is not big enough.\n",
    "    elif len(unknown_df)+len(familiar_df) >= number:\n",
    "        quiz_df = unknown_df.join(familiar_df)\n",
    "    # Else: 'You have not learn enough words. Please learn more words!'\n",
    "    else:\n",
    "        return None           \n",
    "\n",
    "    for i in range(number):\n",
    "        r = []\n",
    "        choices = list(df.sample(n=3, replace = True)[titles[1]])  #choose 3 definition  randomly from the whole word list.\n",
    "        solution = quiz_df[titles[1]][i]\n",
    "        # Produce choices in a random order.\n",
    "        flag = random.randint(0,3)\n",
    "        choices.insert(flag, solution)\n",
    "        r.append(choices)\n",
    "        r.append(flag)\n",
    "        result[quiz_df[titles[0]][i]] = tuple(r)\n",
    "\n",
    "    return result"
   ]
  },
  {
   "cell_type": "code",
   "execution_count": null,
   "metadata": {},
   "outputs": [],
   "source": []
  }
 ],
 "metadata": {
  "kernelspec": {
   "display_name": "Python 3",
   "language": "python",
   "name": "python3"
  },
  "language_info": {
   "codemirror_mode": {
    "name": "ipython",
    "version": 3
   },
   "file_extension": ".py",
   "mimetype": "text/x-python",
   "name": "python",
   "nbconvert_exporter": "python",
   "pygments_lexer": "ipython3",
   "version": "3.6.6"
  }
 },
 "nbformat": 4,
 "nbformat_minor": 2
}
